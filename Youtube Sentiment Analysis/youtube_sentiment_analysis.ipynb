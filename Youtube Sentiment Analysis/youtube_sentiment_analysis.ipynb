{
  "cells": [
    {
      "cell_type": "markdown",
      "metadata": {
        "id": "yIvMWdRwXYrq"
      },
      "source": [
        "# Natural Language Processing Final Project\n",
        "This project is a sentiment analysis on Youtube video comments <br> The dataset is from Kaggle https://www.kaggle.com/adepvenugopal/sentiment-analysis-of-youtube-comments/data <br> This is strictly for educational purposes\n",
        "\n",
        "## Author <br>\n",
        "1. Rayhan Faris\n",
        "2. Rayyan\n",
        "\n",
        "### References\n",
        "* https://towardsdatascience.com/various-ways-to-evaluate-a-machine-learning-models-performance-230449055f15\n",
        "* https://medium.com/@vasista/sentiment-analysis-using-svm-338d418e3ff1\n",
        "* https://medium.com/@annabiancajones/sentiment-analysis-on-reviews-train-test-split-bootstrapping-cross-validation-word-clouds-4ae65e745f59\n",
        "* https://github.com/kb22/Twitter-Sentiment-Analysis/blob/master/train-test-split.py\n",
        "* https://github.com/KwokHing/SentimentAnalysis-Python-Demo/blob/master/SentimentAnalysis.ipynb\n",
        "\n",
        "Date: 30 November 2021\n"
      ]
    },
    {
      "cell_type": "code",
      "execution_count": null,
      "metadata": {
        "colab": {
          "base_uri": "https://localhost:8080/"
        },
        "id": "NuGfQnk8nijK",
        "outputId": "4372835f-8cca-493c-de1a-f44d21ea05a8"
      },
      "outputs": [
        {
          "name": "stdout",
          "output_type": "stream",
          "text": [
            "Drive already mounted at /content/drive; to attempt to forcibly remount, call drive.mount(\"/content/drive\", force_remount=True).\n"
          ]
        }
      ],
      "source": [
        "from google.colab import drive\n",
        "drive.mount('/content/drive')"
      ]
    },
    {
      "cell_type": "markdown",
      "metadata": {
        "id": "VRWJW6U7EFmz"
      },
      "source": [
        "# Import necessary libraries"
      ]
    },
    {
      "cell_type": "code",
      "execution_count": null,
      "metadata": {
        "colab": {
          "base_uri": "https://localhost:8080/"
        },
        "id": "ZFB4EVc0u85z",
        "outputId": "f3dd84f1-463a-43ed-f0ab-8062aa1d697a"
      },
      "outputs": [
        {
          "name": "stdout",
          "output_type": "stream",
          "text": [
            "Requirement already satisfied: vaderSentiment in /usr/local/lib/python3.7/dist-packages (3.3.2)\n",
            "Requirement already satisfied: requests in /usr/local/lib/python3.7/dist-packages (from vaderSentiment) (2.23.0)\n",
            "Requirement already satisfied: idna<3,>=2.5 in /usr/local/lib/python3.7/dist-packages (from requests->vaderSentiment) (2.10)\n",
            "Requirement already satisfied: urllib3!=1.25.0,!=1.25.1,<1.26,>=1.21.1 in /usr/local/lib/python3.7/dist-packages (from requests->vaderSentiment) (1.24.3)\n",
            "Requirement already satisfied: certifi>=2017.4.17 in /usr/local/lib/python3.7/dist-packages (from requests->vaderSentiment) (2021.10.8)\n",
            "Requirement already satisfied: chardet<4,>=3.0.2 in /usr/local/lib/python3.7/dist-packages (from requests->vaderSentiment) (3.0.4)\n",
            "[nltk_data] Downloading package punkt to /root/nltk_data...\n",
            "[nltk_data]   Package punkt is already up-to-date!\n",
            "[nltk_data] Downloading package words to /root/nltk_data...\n",
            "[nltk_data]   Package words is already up-to-date!\n",
            "[nltk_data] Downloading package stopwords to /root/nltk_data...\n",
            "[nltk_data]   Package stopwords is already up-to-date!\n",
            "[nltk_data] Downloading package wordnet to /root/nltk_data...\n",
            "[nltk_data]   Package wordnet is already up-to-date!\n"
          ]
        },
        {
          "data": {
            "text/plain": [
              "True"
            ]
          },
          "execution_count": 2,
          "metadata": {},
          "output_type": "execute_result"
        }
      ],
      "source": [
        "!pip install vaderSentiment\n",
        "\n",
        "import pandas as pd\n",
        "import numpy as np\n",
        "import re\n",
        "import nltk\n",
        "import seaborn as sns\n",
        "import matplotlib.pyplot as plt\n",
        "from nltk.corpus import stopwords\n",
        "from nltk.stem.porter import PorterStemmer\n",
        "from nltk.tokenize import word_tokenize\n",
        "from nltk.tokenize.treebank import TreebankWordDetokenizer\n",
        "from sklearn.model_selection import train_test_split\n",
        "from vaderSentiment.vaderSentiment import SentimentIntensityAnalyzer\n",
        "from nltk.stem import WordNetLemmatizer\n",
        "from sklearn.pipeline import Pipeline\n",
        "from sklearn.feature_extraction.text import CountVectorizer, TfidfTransformer, TfidfVectorizer\n",
        "from sklearn.model_selection import train_test_split, GridSearchCV\n",
        "from sklearn.svm import SVC\n",
        "from sklearn.svm import LinearSVC\n",
        "from sklearn.metrics import confusion_matrix, accuracy_score\n",
        "from sklearn.metrics import classification_report\n",
        "\n",
        "nltk.download('punkt')\n",
        "nltk.download('words')\n",
        "nltk.download('stopwords')\n",
        "nltk.download('wordnet')"
      ]
    },
    {
      "cell_type": "markdown",
      "metadata": {
        "id": "pcoOiUwFEJ9u"
      },
      "source": [
        "# Read data"
      ]
    },
    {
      "cell_type": "code",
      "execution_count": null,
      "metadata": {
        "colab": {
          "base_uri": "https://localhost:8080/",
          "height": 317
        },
        "id": "Q2m4ILdXk6HC",
        "outputId": "0f69ba13-885c-4569-9e3d-c0a60ae75307"
      },
      "outputs": [
        {
          "name": "stderr",
          "output_type": "stream",
          "text": [
            "b'Skipping line 41589: expected 4 fields, saw 11\\nSkipping line 51628: expected 4 fields, saw 7\\nSkipping line 114465: expected 4 fields, saw 5\\n'\n",
            "b'Skipping line 142496: expected 4 fields, saw 8\\nSkipping line 189732: expected 4 fields, saw 6\\nSkipping line 245218: expected 4 fields, saw 7\\n'\n",
            "b'Skipping line 388430: expected 4 fields, saw 5\\n'\n",
            "/usr/local/lib/python3.7/dist-packages/IPython/core/interactiveshell.py:2718: DtypeWarning: Columns (2,3) have mixed types.Specify dtype option on import or set low_memory=False.\n",
            "  interactivity=interactivity, compiler=compiler, result=result)\n"
          ]
        },
        {
          "data": {
            "text/html": [
              "<div>\n",
              "<style scoped>\n",
              "    .dataframe tbody tr th:only-of-type {\n",
              "        vertical-align: middle;\n",
              "    }\n",
              "\n",
              "    .dataframe tbody tr th {\n",
              "        vertical-align: top;\n",
              "    }\n",
              "\n",
              "    .dataframe thead th {\n",
              "        text-align: right;\n",
              "    }\n",
              "</style>\n",
              "<table border=\"1\" class=\"dataframe\">\n",
              "  <thead>\n",
              "    <tr style=\"text-align: right;\">\n",
              "      <th></th>\n",
              "      <th>video_id</th>\n",
              "      <th>comment_text</th>\n",
              "      <th>likes</th>\n",
              "      <th>replies</th>\n",
              "    </tr>\n",
              "  </thead>\n",
              "  <tbody>\n",
              "    <tr>\n",
              "      <th>0</th>\n",
              "      <td>XpVt6Z1Gjjo</td>\n",
              "      <td>Logan Paul it's yo big day ‼️‼️‼️</td>\n",
              "      <td>4</td>\n",
              "      <td>0</td>\n",
              "    </tr>\n",
              "    <tr>\n",
              "      <th>1</th>\n",
              "      <td>XpVt6Z1Gjjo</td>\n",
              "      <td>I've been following you from the start of your...</td>\n",
              "      <td>3</td>\n",
              "      <td>0</td>\n",
              "    </tr>\n",
              "    <tr>\n",
              "      <th>2</th>\n",
              "      <td>XpVt6Z1Gjjo</td>\n",
              "      <td>Say hi to Kong and maverick for me</td>\n",
              "      <td>3</td>\n",
              "      <td>0</td>\n",
              "    </tr>\n",
              "    <tr>\n",
              "      <th>3</th>\n",
              "      <td>XpVt6Z1Gjjo</td>\n",
              "      <td>MY FAN . attendance</td>\n",
              "      <td>3</td>\n",
              "      <td>0</td>\n",
              "    </tr>\n",
              "    <tr>\n",
              "      <th>4</th>\n",
              "      <td>XpVt6Z1Gjjo</td>\n",
              "      <td>trending 😉</td>\n",
              "      <td>3</td>\n",
              "      <td>0</td>\n",
              "    </tr>\n",
              "  </tbody>\n",
              "</table>\n",
              "</div>"
            ],
            "text/plain": [
              "      video_id                                       comment_text likes replies\n",
              "0  XpVt6Z1Gjjo                  Logan Paul it's yo big day ‼️‼️‼️     4       0\n",
              "1  XpVt6Z1Gjjo  I've been following you from the start of your...     3       0\n",
              "2  XpVt6Z1Gjjo                 Say hi to Kong and maverick for me     3       0\n",
              "3  XpVt6Z1Gjjo                                MY FAN . attendance     3       0\n",
              "4  XpVt6Z1Gjjo                                         trending 😉     3       0"
            ]
          },
          "execution_count": 3,
          "metadata": {},
          "output_type": "execute_result"
        }
      ],
      "source": [
        "df = pd.read_csv('/content/drive/MyDrive/Colab/Youtube Dataset/UScomments.csv', \n",
        "                 error_bad_lines=False)\n",
        "df.head(5)"
      ]
    },
    {
      "cell_type": "code",
      "execution_count": null,
      "metadata": {
        "colab": {
          "base_uri": "https://localhost:8080/"
        },
        "id": "HFTaSq6XhH_5",
        "outputId": "dd3280e0-7166-4289-9123-81529a7acb0d"
      },
      "outputs": [
        {
          "name": "stdout",
          "output_type": "stream",
          "text": [
            "<class 'pandas.core.frame.DataFrame'>\n",
            "RangeIndex: 691400 entries, 0 to 691399\n",
            "Data columns (total 4 columns):\n",
            " #   Column        Non-Null Count   Dtype \n",
            "---  ------        --------------   ----- \n",
            " 0   video_id      691400 non-null  object\n",
            " 1   comment_text  691375 non-null  object\n",
            " 2   likes         691400 non-null  object\n",
            " 3   replies       691400 non-null  object\n",
            "dtypes: object(4)\n",
            "memory usage: 21.1+ MB\n"
          ]
        }
      ],
      "source": [
        "df.info()"
      ]
    },
    {
      "cell_type": "code",
      "execution_count": null,
      "metadata": {
        "colab": {
          "base_uri": "https://localhost:8080/",
          "height": 423
        },
        "id": "nkTDaO3BowYw",
        "outputId": "4faaa711-1752-4560-c090-9e556069c28d"
      },
      "outputs": [
        {
          "data": {
            "text/html": [
              "<div>\n",
              "<style scoped>\n",
              "    .dataframe tbody tr th:only-of-type {\n",
              "        vertical-align: middle;\n",
              "    }\n",
              "\n",
              "    .dataframe tbody tr th {\n",
              "        vertical-align: top;\n",
              "    }\n",
              "\n",
              "    .dataframe thead th {\n",
              "        text-align: right;\n",
              "    }\n",
              "</style>\n",
              "<table border=\"1\" class=\"dataframe\">\n",
              "  <thead>\n",
              "    <tr style=\"text-align: right;\">\n",
              "      <th></th>\n",
              "      <th>video_id</th>\n",
              "      <th>comment_text</th>\n",
              "    </tr>\n",
              "  </thead>\n",
              "  <tbody>\n",
              "    <tr>\n",
              "      <th>0</th>\n",
              "      <td>XpVt6Z1Gjjo</td>\n",
              "      <td>Logan Paul it's yo big day ‼️‼️‼️</td>\n",
              "    </tr>\n",
              "    <tr>\n",
              "      <th>1</th>\n",
              "      <td>XpVt6Z1Gjjo</td>\n",
              "      <td>I've been following you from the start of your...</td>\n",
              "    </tr>\n",
              "    <tr>\n",
              "      <th>2</th>\n",
              "      <td>XpVt6Z1Gjjo</td>\n",
              "      <td>Say hi to Kong and maverick for me</td>\n",
              "    </tr>\n",
              "    <tr>\n",
              "      <th>3</th>\n",
              "      <td>XpVt6Z1Gjjo</td>\n",
              "      <td>MY FAN . attendance</td>\n",
              "    </tr>\n",
              "    <tr>\n",
              "      <th>4</th>\n",
              "      <td>XpVt6Z1Gjjo</td>\n",
              "      <td>trending 😉</td>\n",
              "    </tr>\n",
              "    <tr>\n",
              "      <th>...</th>\n",
              "      <td>...</td>\n",
              "      <td>...</td>\n",
              "    </tr>\n",
              "    <tr>\n",
              "      <th>691395</th>\n",
              "      <td>EoejGgUNmVU</td>\n",
              "      <td>Лучшая</td>\n",
              "    </tr>\n",
              "    <tr>\n",
              "      <th>691396</th>\n",
              "      <td>EoejGgUNmVU</td>\n",
              "      <td>qu'est ce que j'aimerais que tu viennes à Roan...</td>\n",
              "    </tr>\n",
              "    <tr>\n",
              "      <th>691397</th>\n",
              "      <td>EoejGgUNmVU</td>\n",
              "      <td>Ven a mexico! 😍 te amo LP</td>\n",
              "    </tr>\n",
              "    <tr>\n",
              "      <th>691398</th>\n",
              "      <td>EoejGgUNmVU</td>\n",
              "      <td>Islığı yeter...</td>\n",
              "    </tr>\n",
              "    <tr>\n",
              "      <th>691399</th>\n",
              "      <td>EoejGgUNmVU</td>\n",
              "      <td>Kocham tą piosenkę😍❤❤❤byłam zakochana po uszy ...</td>\n",
              "    </tr>\n",
              "  </tbody>\n",
              "</table>\n",
              "<p>691400 rows × 2 columns</p>\n",
              "</div>"
            ],
            "text/plain": [
              "           video_id                                       comment_text\n",
              "0       XpVt6Z1Gjjo                  Logan Paul it's yo big day ‼️‼️‼️\n",
              "1       XpVt6Z1Gjjo  I've been following you from the start of your...\n",
              "2       XpVt6Z1Gjjo                 Say hi to Kong and maverick for me\n",
              "3       XpVt6Z1Gjjo                                MY FAN . attendance\n",
              "4       XpVt6Z1Gjjo                                         trending 😉\n",
              "...             ...                                                ...\n",
              "691395  EoejGgUNmVU                                             Лучшая\n",
              "691396  EoejGgUNmVU  qu'est ce que j'aimerais que tu viennes à Roan...\n",
              "691397  EoejGgUNmVU                          Ven a mexico! 😍 te amo LP\n",
              "691398  EoejGgUNmVU                                    Islığı yeter...\n",
              "691399  EoejGgUNmVU  Kocham tą piosenkę😍❤❤❤byłam zakochana po uszy ...\n",
              "\n",
              "[691400 rows x 2 columns]"
            ]
          },
          "execution_count": 5,
          "metadata": {},
          "output_type": "execute_result"
        }
      ],
      "source": [
        "df = df.drop(['likes', 'replies'], axis=1)\n",
        "df"
      ]
    },
    {
      "cell_type": "code",
      "execution_count": null,
      "metadata": {
        "colab": {
          "base_uri": "https://localhost:8080/"
        },
        "id": "Jri-IPfbjG9A",
        "outputId": "563e854a-b566-46d6-bb25-801ff6f1cdda"
      },
      "outputs": [
        {
          "data": {
            "text/plain": [
              "video_id\n",
              "Hlt3rA-oDao    800\n",
              "CYoRmfI0LUc    800\n",
              "LunHybOKIjU    800\n",
              "4X6a3G_0HjY    800\n",
              "WYYvHb03Eog    800\n",
              "              ... \n",
              "mi52IqpOp54      1\n",
              "mShBE_wHAk8      1\n",
              "jLa9wZHiqxg      1\n",
              "HjfN2Phsfng      1\n",
              "c5RsAXsZvI8      1\n",
              "Name: comment_text, Length: 2266, dtype: int64"
            ]
          },
          "execution_count": 6,
          "metadata": {},
          "output_type": "execute_result"
        }
      ],
      "source": [
        "df.groupby('video_id')['comment_text'].count().sort_values(ascending=False)"
      ]
    },
    {
      "cell_type": "markdown",
      "metadata": {
        "id": "5Ukg0lBwEMYx"
      },
      "source": [
        "Remove Null & duplicate data"
      ]
    },
    {
      "cell_type": "code",
      "execution_count": null,
      "metadata": {
        "colab": {
          "base_uri": "https://localhost:8080/"
        },
        "id": "ctXxNU-7yFBr",
        "outputId": "db9a1a7d-fb92-46f1-eabe-5a85b1a101d9"
      },
      "outputs": [
        {
          "name": "stdout",
          "output_type": "stream",
          "text": [
            "Before dropping Null values and duplicates: (691400, 2)\n",
            "After: (450519, 2)\n",
            "240881 data were removed from the dataset\n"
          ]
        }
      ],
      "source": [
        "before = df.shape[0]\n",
        "print('Before dropping Null values and duplicates: {}'.format(df.shape))\n",
        "\n",
        "df = df.dropna().drop_duplicates().reset_index(drop=True)\n",
        "after = df.shape[0]\n",
        "\n",
        "print('After: {}'.format(df.shape))\n",
        "print('{} data were removed from the dataset'.format(before-after))"
      ]
    },
    {
      "cell_type": "code",
      "execution_count": null,
      "metadata": {
        "colab": {
          "base_uri": "https://localhost:8080/"
        },
        "id": "t-4VxJEC-84M",
        "outputId": "b15352a5-087b-4985-c0a1-8c8da7eaa946"
      },
      "outputs": [
        {
          "data": {
            "text/plain": [
              "video_id        False\n",
              "comment_text    False\n",
              "dtype: bool"
            ]
          },
          "execution_count": 8,
          "metadata": {},
          "output_type": "execute_result"
        }
      ],
      "source": [
        "df.isnull().any()"
      ]
    },
    {
      "cell_type": "markdown",
      "metadata": {
        "id": "WIefv41ia6kG"
      },
      "source": [
        "# Labelling data\n",
        "using vader sentiment score"
      ]
    },
    {
      "cell_type": "code",
      "execution_count": null,
      "metadata": {
        "colab": {
          "base_uri": "https://localhost:8080/",
          "height": 423
        },
        "id": "yRYDf7MJUeYE",
        "outputId": "feb252be-4105-4c98-fee2-cc3caa11070a"
      },
      "outputs": [
        {
          "data": {
            "text/html": [
              "<div>\n",
              "<style scoped>\n",
              "    .dataframe tbody tr th:only-of-type {\n",
              "        vertical-align: middle;\n",
              "    }\n",
              "\n",
              "    .dataframe tbody tr th {\n",
              "        vertical-align: top;\n",
              "    }\n",
              "\n",
              "    .dataframe thead th {\n",
              "        text-align: right;\n",
              "    }\n",
              "</style>\n",
              "<table border=\"1\" class=\"dataframe\">\n",
              "  <thead>\n",
              "    <tr style=\"text-align: right;\">\n",
              "      <th></th>\n",
              "      <th>video_id</th>\n",
              "      <th>comment_text</th>\n",
              "      <th>neg</th>\n",
              "      <th>neu</th>\n",
              "      <th>pos</th>\n",
              "      <th>compound</th>\n",
              "    </tr>\n",
              "  </thead>\n",
              "  <tbody>\n",
              "    <tr>\n",
              "      <th>0</th>\n",
              "      <td>Hlt3rA-oDao</td>\n",
              "      <td>well now i can't sleep, thanks SNL.</td>\n",
              "      <td>0.253</td>\n",
              "      <td>0.526</td>\n",
              "      <td>0.221</td>\n",
              "      <td>-0.0788</td>\n",
              "    </tr>\n",
              "    <tr>\n",
              "      <th>1</th>\n",
              "      <td>Hlt3rA-oDao</td>\n",
              "      <td>She's looking sexy in this</td>\n",
              "      <td>0.000</td>\n",
              "      <td>0.541</td>\n",
              "      <td>0.459</td>\n",
              "      <td>0.5267</td>\n",
              "    </tr>\n",
              "    <tr>\n",
              "      <th>2</th>\n",
              "      <td>Hlt3rA-oDao</td>\n",
              "      <td>Why is this #2 on trending when it only have 1...</td>\n",
              "      <td>0.000</td>\n",
              "      <td>1.000</td>\n",
              "      <td>0.000</td>\n",
              "      <td>0.0000</td>\n",
              "    </tr>\n",
              "    <tr>\n",
              "      <th>3</th>\n",
              "      <td>Hlt3rA-oDao</td>\n",
              "      <td>how is this #2 on trending with only 13k views...</td>\n",
              "      <td>0.174</td>\n",
              "      <td>0.826</td>\n",
              "      <td>0.000</td>\n",
              "      <td>-0.5859</td>\n",
              "    </tr>\n",
              "    <tr>\n",
              "      <th>4</th>\n",
              "      <td>Hlt3rA-oDao</td>\n",
              "      <td>😂😂😂 Kate is trending on living legend status a...</td>\n",
              "      <td>0.158</td>\n",
              "      <td>0.526</td>\n",
              "      <td>0.316</td>\n",
              "      <td>0.8271</td>\n",
              "    </tr>\n",
              "    <tr>\n",
              "      <th>...</th>\n",
              "      <td>...</td>\n",
              "      <td>...</td>\n",
              "      <td>...</td>\n",
              "      <td>...</td>\n",
              "      <td>...</td>\n",
              "      <td>...</td>\n",
              "    </tr>\n",
              "    <tr>\n",
              "      <th>784</th>\n",
              "      <td>Hlt3rA-oDao</td>\n",
              "      <td>Can someone explain the Michigan and Wisconsin...</td>\n",
              "      <td>0.000</td>\n",
              "      <td>0.761</td>\n",
              "      <td>0.239</td>\n",
              "      <td>0.2960</td>\n",
              "    </tr>\n",
              "    <tr>\n",
              "      <th>785</th>\n",
              "      <td>Hlt3rA-oDao</td>\n",
              "      <td>Isn't that the same dyke cunt who played Hitlary?</td>\n",
              "      <td>0.254</td>\n",
              "      <td>0.556</td>\n",
              "      <td>0.190</td>\n",
              "      <td>-0.2023</td>\n",
              "    </tr>\n",
              "    <tr>\n",
              "      <th>786</th>\n",
              "      <td>Hlt3rA-oDao</td>\n",
              "      <td>But no one mentions how this is a big fear of ...</td>\n",
              "      <td>0.415</td>\n",
              "      <td>0.585</td>\n",
              "      <td>0.000</td>\n",
              "      <td>-0.7964</td>\n",
              "    </tr>\n",
              "    <tr>\n",
              "      <th>787</th>\n",
              "      <td>Hlt3rA-oDao</td>\n",
              "      <td>Hillary actually is just a shadow or illusion ...</td>\n",
              "      <td>0.188</td>\n",
              "      <td>0.812</td>\n",
              "      <td>0.000</td>\n",
              "      <td>-0.6249</td>\n",
              "    </tr>\n",
              "    <tr>\n",
              "      <th>788</th>\n",
              "      <td>Hlt3rA-oDao</td>\n",
              "      <td>That was so stupid and y'all are just giving i...</td>\n",
              "      <td>0.138</td>\n",
              "      <td>0.602</td>\n",
              "      <td>0.260</td>\n",
              "      <td>0.4279</td>\n",
              "    </tr>\n",
              "  </tbody>\n",
              "</table>\n",
              "<p>789 rows × 6 columns</p>\n",
              "</div>"
            ],
            "text/plain": [
              "        video_id  ... compound\n",
              "0    Hlt3rA-oDao  ...  -0.0788\n",
              "1    Hlt3rA-oDao  ...   0.5267\n",
              "2    Hlt3rA-oDao  ...   0.0000\n",
              "3    Hlt3rA-oDao  ...  -0.5859\n",
              "4    Hlt3rA-oDao  ...   0.8271\n",
              "..           ...  ...      ...\n",
              "784  Hlt3rA-oDao  ...   0.2960\n",
              "785  Hlt3rA-oDao  ...  -0.2023\n",
              "786  Hlt3rA-oDao  ...  -0.7964\n",
              "787  Hlt3rA-oDao  ...  -0.6249\n",
              "788  Hlt3rA-oDao  ...   0.4279\n",
              "\n",
              "[789 rows x 6 columns]"
            ]
          },
          "execution_count": 9,
          "metadata": {},
          "output_type": "execute_result"
        }
      ],
      "source": [
        "video_id = 'Hlt3rA-oDao' # LunHybOKIjU\n",
        "df_first_video_comments = df[df['video_id'] == video_id].copy()\n",
        "\n",
        "analyzer = SentimentIntensityAnalyzer()\n",
        "\n",
        "# analyzer.polarity_scores('It\\'s horribly a bad day')\n",
        "sentiment = df_first_video_comments['comment_text'].apply(analyzer.polarity_scores)\n",
        "sentiment = pd.DataFrame(sentiment.tolist())\n",
        "\n",
        "df_first_video_comments.reset_index(drop=True, inplace=True)\n",
        "sentiment.reset_index(drop=True, inplace=True)\n",
        "\n",
        "df_sentiment = pd.concat([df_first_video_comments, sentiment], axis=1)\n",
        "df_sentiment"
      ]
    },
    {
      "cell_type": "code",
      "execution_count": null,
      "metadata": {
        "colab": {
          "base_uri": "https://localhost:8080/"
        },
        "id": "y-cU47vCc_zK",
        "outputId": "3e583c29-c920-42c1-b085-145244795d40"
      },
      "outputs": [
        {
          "name": "stdout",
          "output_type": "stream",
          "text": [
            "before rename:  Index(['video_id', 'comment_text', 'neg', 'neu', 'pos', 'compound'], dtype='object')\n",
            "before after:  Index(['video_id', 'comment_text', 'vader_negative', 'vader_neutral',\n",
            "       'vader_positive', 'vader_compound'],\n",
            "      dtype='object')\n"
          ]
        }
      ],
      "source": [
        "change_column_name = {'neg':'vader_negative',\n",
        "                      'neu':'vader_neutral',\n",
        "                      'pos':'vader_positive',\n",
        "                      'compound':'vader_compound'}\n",
        "print('before rename: ', df_sentiment.columns)\n",
        "\n",
        "df_sentiment = df_sentiment.rename(columns=change_column_name)\n",
        "\n",
        "print('before after: ', df_sentiment.columns)"
      ]
    },
    {
      "cell_type": "code",
      "execution_count": null,
      "metadata": {
        "colab": {
          "base_uri": "https://localhost:8080/",
          "height": 206
        },
        "id": "wLnujCtHOr2a",
        "outputId": "05fdb50f-d55d-485a-f415-4ca92d0bd85c"
      },
      "outputs": [
        {
          "data": {
            "text/html": [
              "<div>\n",
              "<style scoped>\n",
              "    .dataframe tbody tr th:only-of-type {\n",
              "        vertical-align: middle;\n",
              "    }\n",
              "\n",
              "    .dataframe tbody tr th {\n",
              "        vertical-align: top;\n",
              "    }\n",
              "\n",
              "    .dataframe thead th {\n",
              "        text-align: right;\n",
              "    }\n",
              "</style>\n",
              "<table border=\"1\" class=\"dataframe\">\n",
              "  <thead>\n",
              "    <tr style=\"text-align: right;\">\n",
              "      <th></th>\n",
              "      <th>video_id</th>\n",
              "      <th>comment_text</th>\n",
              "      <th>vader_negative</th>\n",
              "      <th>vader_neutral</th>\n",
              "      <th>vader_positive</th>\n",
              "      <th>vader_compound</th>\n",
              "      <th>vader_sentiment_score</th>\n",
              "    </tr>\n",
              "  </thead>\n",
              "  <tbody>\n",
              "    <tr>\n",
              "      <th>0</th>\n",
              "      <td>Hlt3rA-oDao</td>\n",
              "      <td>well now i can't sleep, thanks SNL.</td>\n",
              "      <td>0.253</td>\n",
              "      <td>0.526</td>\n",
              "      <td>0.221</td>\n",
              "      <td>-0.0788</td>\n",
              "      <td>Negative</td>\n",
              "    </tr>\n",
              "    <tr>\n",
              "      <th>1</th>\n",
              "      <td>Hlt3rA-oDao</td>\n",
              "      <td>She's looking sexy in this</td>\n",
              "      <td>0.000</td>\n",
              "      <td>0.541</td>\n",
              "      <td>0.459</td>\n",
              "      <td>0.5267</td>\n",
              "      <td>Positive</td>\n",
              "    </tr>\n",
              "    <tr>\n",
              "      <th>2</th>\n",
              "      <td>Hlt3rA-oDao</td>\n",
              "      <td>Why is this #2 on trending when it only have 1...</td>\n",
              "      <td>0.000</td>\n",
              "      <td>1.000</td>\n",
              "      <td>0.000</td>\n",
              "      <td>0.0000</td>\n",
              "      <td>Neutral</td>\n",
              "    </tr>\n",
              "    <tr>\n",
              "      <th>3</th>\n",
              "      <td>Hlt3rA-oDao</td>\n",
              "      <td>how is this #2 on trending with only 13k views...</td>\n",
              "      <td>0.174</td>\n",
              "      <td>0.826</td>\n",
              "      <td>0.000</td>\n",
              "      <td>-0.5859</td>\n",
              "      <td>Negative</td>\n",
              "    </tr>\n",
              "    <tr>\n",
              "      <th>4</th>\n",
              "      <td>Hlt3rA-oDao</td>\n",
              "      <td>😂😂😂 Kate is trending on living legend status a...</td>\n",
              "      <td>0.158</td>\n",
              "      <td>0.526</td>\n",
              "      <td>0.316</td>\n",
              "      <td>0.8271</td>\n",
              "      <td>Positive</td>\n",
              "    </tr>\n",
              "  </tbody>\n",
              "</table>\n",
              "</div>"
            ],
            "text/plain": [
              "      video_id  ... vader_sentiment_score\n",
              "0  Hlt3rA-oDao  ...              Negative\n",
              "1  Hlt3rA-oDao  ...              Positive\n",
              "2  Hlt3rA-oDao  ...               Neutral\n",
              "3  Hlt3rA-oDao  ...              Negative\n",
              "4  Hlt3rA-oDao  ...              Positive\n",
              "\n",
              "[5 rows x 7 columns]"
            ]
          },
          "execution_count": 11,
          "metadata": {},
          "output_type": "execute_result"
        }
      ],
      "source": [
        "df_sentiment['vader_sentiment_score'] = np.nan\n",
        "\n",
        "for i in range(len(df_sentiment)):\n",
        "  compound_score = df_sentiment.iloc[i, -2]\n",
        "\n",
        "  if compound_score <= -0.05:\n",
        "    df_sentiment.iloc[i,-1] = 'Negative'\n",
        "  elif compound_score >= 0.05:\n",
        "    df_sentiment.iloc[i,-1] = 'Positive'\n",
        "  else:\n",
        "    df_sentiment.iloc[i,-1] = 'Neutral'\n",
        "\n",
        "df_sentiment.head()"
      ]
    },
    {
      "cell_type": "code",
      "execution_count": null,
      "metadata": {
        "colab": {
          "base_uri": "https://localhost:8080/"
        },
        "id": "npipQqn1XMUb",
        "outputId": "96429751-c080-4a17-d154-3842935976ed"
      },
      "outputs": [
        {
          "data": {
            "text/plain": [
              "vader_sentiment_score\n",
              "Negative    179\n",
              "Neutral     202\n",
              "Positive    408\n",
              "Name: comment_text, dtype: int64"
            ]
          },
          "execution_count": 12,
          "metadata": {},
          "output_type": "execute_result"
        }
      ],
      "source": [
        "df_sentiment.groupby(['vader_sentiment_score'])['comment_text'].count()"
      ]
    },
    {
      "cell_type": "markdown",
      "metadata": {
        "id": "b9zxIBS6EQiQ"
      },
      "source": [
        "# Preprocessing\n",
        "1. Remove Non-english words\n",
        "2. Remove e-mails, extra spaces (\\n\\n)\n",
        "3. Remove URL, hashtags\n",
        "4. Remove duplicate symbols, video timestamps"
      ]
    },
    {
      "cell_type": "code",
      "execution_count": null,
      "metadata": {
        "id": "3C6cGnucNtGD"
      },
      "outputs": [],
      "source": [
        "def cleanText(text):  \n",
        "  english_stopwords = set(stopwords.words('english'))\n",
        "  ps = PorterStemmer()\n",
        "  lemmatizer = WordNetLemmatizer()\n",
        "\n",
        "  text = text.lower()\n",
        "  text = re.sub(r'\\\\n|\\n', ' ', text) # \\\\n\\nLook\n",
        "  text = re.sub(r'\\s*[!@#$%^&*()_+-={}|\\[\\]\\:\"\\';\\<>?,./‼️’]+(\\s+)*', ' ', text) # punctuation\n",
        "  text = re.sub(r'[^A-Za-z0-9 ]', ' ', text)  # emojis\n",
        "  text = re.sub(r'\\d+', ' ', text) # numbers\n",
        "  text = re.sub(r'\\s+(\\W+)*', ' ', text)  # extra whitespace and all types of lines\n",
        "  text = re.sub(r'https:\\/\\/\\S+', ' ', text)  # links\n",
        "  text = re.sub(r'at \\d+:\\d+', ' ', text) # video timestamps\n",
        "  text = re.sub(r'\\w\\\\n', ' ', text)  # single character\n",
        "  text = re.sub(r'\\s\\w\\s', ' ', text) # single character\n",
        "  \n",
        "  # Stemming and Lemmatization\n",
        "  filtered_stemmed_text = [lemmatizer.lemmatize(ps.stem(w)) for w \n",
        "                           in word_tokenize(text) if w not \n",
        "                           in english_stopwords]\n",
        "\n",
        "  text = TreebankWordDetokenizer().detokenize(filtered_stemmed_text)\n",
        "\n",
        "  return text"
      ]
    },
    {
      "cell_type": "code",
      "execution_count": null,
      "metadata": {
        "colab": {
          "base_uri": "https://localhost:8080/",
          "height": 310
        },
        "id": "bVm4dMuBl6GS",
        "outputId": "2fe0934f-8b4e-4c96-c5dd-1c612acb5665"
      },
      "outputs": [
        {
          "data": {
            "text/html": [
              "<div>\n",
              "<style scoped>\n",
              "    .dataframe tbody tr th:only-of-type {\n",
              "        vertical-align: middle;\n",
              "    }\n",
              "\n",
              "    .dataframe tbody tr th {\n",
              "        vertical-align: top;\n",
              "    }\n",
              "\n",
              "    .dataframe thead th {\n",
              "        text-align: right;\n",
              "    }\n",
              "</style>\n",
              "<table border=\"1\" class=\"dataframe\">\n",
              "  <thead>\n",
              "    <tr style=\"text-align: right;\">\n",
              "      <th></th>\n",
              "      <th>video_id</th>\n",
              "      <th>comment_text</th>\n",
              "      <th>cleaned_comment_text</th>\n",
              "      <th>vader_negative</th>\n",
              "      <th>vader_neutral</th>\n",
              "      <th>vader_positive</th>\n",
              "      <th>vader_compound</th>\n",
              "      <th>vader_sentiment_score</th>\n",
              "    </tr>\n",
              "  </thead>\n",
              "  <tbody>\n",
              "    <tr>\n",
              "      <th>0</th>\n",
              "      <td>Hlt3rA-oDao</td>\n",
              "      <td>well now i can't sleep, thanks SNL.</td>\n",
              "      <td>well sleep thank snl</td>\n",
              "      <td>0.253</td>\n",
              "      <td>0.526</td>\n",
              "      <td>0.221</td>\n",
              "      <td>-0.0788</td>\n",
              "      <td>Negative</td>\n",
              "    </tr>\n",
              "    <tr>\n",
              "      <th>1</th>\n",
              "      <td>Hlt3rA-oDao</td>\n",
              "      <td>She's looking sexy in this</td>\n",
              "      <td>look sexi</td>\n",
              "      <td>0.000</td>\n",
              "      <td>0.541</td>\n",
              "      <td>0.459</td>\n",
              "      <td>0.5267</td>\n",
              "      <td>Positive</td>\n",
              "    </tr>\n",
              "    <tr>\n",
              "      <th>2</th>\n",
              "      <td>Hlt3rA-oDao</td>\n",
              "      <td>Why is this #2 on trending when it only have 1...</td>\n",
              "      <td>trend view</td>\n",
              "      <td>0.000</td>\n",
              "      <td>1.000</td>\n",
              "      <td>0.000</td>\n",
              "      <td>0.0000</td>\n",
              "      <td>Neutral</td>\n",
              "    </tr>\n",
              "    <tr>\n",
              "      <th>3</th>\n",
              "      <td>Hlt3rA-oDao</td>\n",
              "      <td>how is this #2 on trending with only 13k views...</td>\n",
              "      <td>trend view wtf anyon know orwellian algorithm ...</td>\n",
              "      <td>0.174</td>\n",
              "      <td>0.826</td>\n",
              "      <td>0.000</td>\n",
              "      <td>-0.5859</td>\n",
              "      <td>Negative</td>\n",
              "    </tr>\n",
              "    <tr>\n",
              "      <th>4</th>\n",
              "      <td>Hlt3rA-oDao</td>\n",
              "      <td>😂😂😂 Kate is trending on living legend status a...</td>\n",
              "      <td>kate trend live legend statu point</td>\n",
              "      <td>0.158</td>\n",
              "      <td>0.526</td>\n",
              "      <td>0.316</td>\n",
              "      <td>0.8271</td>\n",
              "      <td>Positive</td>\n",
              "    </tr>\n",
              "  </tbody>\n",
              "</table>\n",
              "</div>"
            ],
            "text/plain": [
              "      video_id  ... vader_sentiment_score\n",
              "0  Hlt3rA-oDao  ...              Negative\n",
              "1  Hlt3rA-oDao  ...              Positive\n",
              "2  Hlt3rA-oDao  ...               Neutral\n",
              "3  Hlt3rA-oDao  ...              Negative\n",
              "4  Hlt3rA-oDao  ...              Positive\n",
              "\n",
              "[5 rows x 8 columns]"
            ]
          },
          "execution_count": 14,
          "metadata": {},
          "output_type": "execute_result"
        }
      ],
      "source": [
        "df_sentiment['cleaned_comment_text'] = df_sentiment['comment_text'].apply(cleanText)\n",
        "df_sentiment = df_sentiment[['video_id', 'comment_text', 'cleaned_comment_text', \n",
        "                             'vader_negative', 'vader_neutral', 'vader_positive', \n",
        "                             'vader_compound', 'vader_sentiment_score']]\n",
        "\n",
        "df_sentiment.head()"
      ]
    },
    {
      "cell_type": "markdown",
      "metadata": {
        "id": "yQX7dhU0Wmmo"
      },
      "source": [
        "# Visualization\n",
        "Data exploration\n",
        "1. positive, negative and neutral sentiment score distribution\n",
        "2. most frequently used words in positive and negative statements"
      ]
    },
    {
      "cell_type": "code",
      "execution_count": null,
      "metadata": {
        "colab": {
          "base_uri": "https://localhost:8080/",
          "height": 354
        },
        "id": "OTcxh3aWd38B",
        "outputId": "2eb761ab-c843-4fe3-f6f6-825941906280"
      },
      "outputs": [
        {
          "name": "stderr",
          "output_type": "stream",
          "text": [
            "/usr/local/lib/python3.7/dist-packages/seaborn/_decorators.py:43: FutureWarning: Pass the following variable as a keyword arg: x. From version 0.12, the only valid positional argument will be `data`, and passing other arguments without an explicit keyword will result in an error or misinterpretation.\n",
            "  FutureWarning\n"
          ]
        },
        {
          "data": {
            "text/plain": [
              "<matplotlib.axes._subplots.AxesSubplot at 0x7f898657c390>"
            ]
          },
          "execution_count": 15,
          "metadata": {},
          "output_type": "execute_result"
        },
        {
          "data": {
            "image/png": "[encoded data removed]",
            "text/plain": [
              "<Figure size 432x288 with 1 Axes>"
            ]
          },
          "metadata": {
            "needs_background": "light"
          },
          "output_type": "display_data"
        }
      ],
      "source": [
        "sns.countplot('vader_sentiment_score', data=df_sentiment)"
      ]
    },
    {
      "cell_type": "code",
      "execution_count": null,
      "metadata": {
        "colab": {
          "base_uri": "https://localhost:8080/",
          "height": 298
        },
        "id": "_NMDYay5gfWv",
        "outputId": "ef0902b2-793d-40df-ff4b-1f98b879077f"
      },
      "outputs": [
        {
          "data": {
            "text/plain": [
              "<matplotlib.axes._subplots.AxesSubplot at 0x7f8981817fd0>"
            ]
          },
          "execution_count": 16,
          "metadata": {},
          "output_type": "execute_result"
        },
        {
          "data": {
            "image/png": "[encoded data removed]",
            "text/plain": [
              "<Figure size 432x288 with 1 Axes>"
            ]
          },
          "metadata": {
            "needs_background": "light"
          },
          "output_type": "display_data"
        }
      ],
      "source": [
        "df_sentiment.plot.scatter(x='vader_positive', y = 'vader_negative')"
      ]
    },
    {
      "cell_type": "code",
      "execution_count": null,
      "metadata": {
        "colab": {
          "base_uri": "https://localhost:8080/",
          "height": 476
        },
        "id": "mrkhF-x_Z2gJ",
        "outputId": "ff0c0c45-8158-4ecb-d696-c31f2877c7cc"
      },
      "outputs": [
        {
          "data": {
            "text/plain": [
              "<matplotlib.axes._subplots.AxesSubplot at 0x7f898179b7d0>"
            ]
          },
          "execution_count": 17,
          "metadata": {},
          "output_type": "execute_result"
        },
        {
          "data": {
            "image/png": "[encoded data removed]",
            "text/plain": [
              "<Figure size 504x504 with 1 Axes>"
            ]
          },
          "metadata": {
            "needs_background": "light"
          },
          "output_type": "display_data"
        }
      ],
      "source": [
        "tweet_len = pd.Series([len(tweet.split()) for tweet in df_sentiment['comment_text']])\n",
        "\n",
        "plt.figure(figsize=(7,7))\n",
        "plt.title('Text length distribution on tweet')\n",
        "plt.xlabel('text')\n",
        "tweet_len.plot(kind='box')"
      ]
    },
    {
      "cell_type": "markdown",
      "metadata": {
        "id": "L2yH-5C5f2uO"
      },
      "source": [
        "# Positive sentiment tweet analysis\n",
        "1. Text length distribution\n",
        "2. Most frequently used words on positive sentiment"
      ]
    },
    {
      "cell_type": "code",
      "execution_count": null,
      "metadata": {
        "id": "Zwx7q3Cs8VT9"
      },
      "outputs": [],
      "source": [
        "def tokenizeAllSent(df):\n",
        "  english_stopwords = set(stopwords.words('english'))\n",
        "  # flat = [x for sublist in nested for x in sublist]\n",
        "  return [w for x in list(word_tokenize(w) for w in df) for w \n",
        "          in x if w not in english_stopwords]\n",
        "  "
      ]
    },
    {
      "cell_type": "code",
      "execution_count": null,
      "metadata": {
        "colab": {
          "base_uri": "https://localhost:8080/",
          "height": 531
        },
        "id": "ITkx0yS8bvbb",
        "outputId": "9c29d484-5ef3-447f-a556-55387423c265"
      },
      "outputs": [
        {
          "name": "stdout",
          "output_type": "stream",
          "text": [
            "count    408.000000\n",
            "mean      11.232843\n",
            "std       15.151396\n",
            "min        1.000000\n",
            "25%        4.000000\n",
            "50%        8.000000\n",
            "75%       13.000000\n",
            "max      220.000000\n",
            "dtype: float64\n"
          ]
        },
        {
          "data": {
            "text/plain": [
              "(array([367.,  32.,   5.,   3.,   0.,   0.,   0.,   0.,   0.,   1.]),\n",
              " array([  1. ,  22.9,  44.8,  66.7,  88.6, 110.5, 132.4, 154.3, 176.2,\n",
              "        198.1, 220. ]),\n",
              " <a list of 10 Patch objects>)"
            ]
          },
          "execution_count": 19,
          "metadata": {},
          "output_type": "execute_result"
        },
        {
          "data": {
            "image/png": "[encoded data removed]",
            "text/plain": [
              "<Figure size 432x288 with 1 Axes>"
            ]
          },
          "metadata": {
            "needs_background": "light"
          },
          "output_type": "display_data"
        }
      ],
      "source": [
        "positive_tweet_len = pd.Series([len(tweet.split()) for tweet \n",
        "                                in df_sentiment[df_sentiment['vader_sentiment_score'] == 'Positive']['comment_text']\n",
        "                                if len(tweet.split()) > 0])\n",
        "\n",
        "print(positive_tweet_len.describe())\n",
        "plt.title(\"Text length for positive sentiment tweets\")\n",
        "plt.ylabel(\"Frequency\")\n",
        "plt.xlabel(\"Number of words\")\n",
        "plt.hist(positive_tweet_len)"
      ]
    },
    {
      "cell_type": "code",
      "execution_count": null,
      "metadata": {
        "colab": {
          "base_uri": "https://localhost:8080/",
          "height": 953
        },
        "id": "kSMHcifMgCO3",
        "outputId": "18460fd2-6ff6-4640-e166-18d58bbf7c8b"
      },
      "outputs": [
        {
          "data": {
            "image/png": "[encoded data removed]",
            "text/plain": [
              "<Figure size 864x504 with 1 Axes>"
            ]
          },
          "metadata": {
            "needs_background": "light"
          },
          "output_type": "display_data"
        },
        {
          "name": "stdout",
          "output_type": "stream",
          "text": [
            "Displaying 25 of 53 matches:\n",
            " art got conway bit far last one saw funni one bit mean best becom mainstream g\n",
            "ohn stewart colbert liber also talet funni knew object funni snl one thing make\n",
            "t liber also talet funni knew object funni snl one thing make republican look b\n",
            "republican look bad get alreadi noth funni show sinc sudeki left wow huge spoil\n",
            "e awesom work snl suuuck none materi funni award individu skit would certainli \n",
            "omment section man good one snl fuck funni oh look kate win anoth emmi fuck awe\n",
            " impress point polit asid comed gold funni part kenan laugh hard okay puerto ri\n",
            "er love love trump liber cock sucker funni love kate mckinnon much oml xd lmao \n",
            "hillari shitbag clinton though would funni use plot instead funni way look sexi\n",
            " though would funni use plot instead funni way look sexi dat make want quot giv\n",
            "quinn maaaannnn snl use hilari stuff funni trump hilari imperson die non stop p\n",
            "on die non stop polit show give dumb funni humor blooper one think better remak\n",
            "d lmao wow use lefti outfit spew non funni hate imagin surpris one actual funni\n",
            "funni hate imagin surpris one actual funni lmfao hiya coopi lmao shit fkn weak \n",
            "d exactli like samuel jackson realli funni thing trump probabl reelect hilari l\n",
            "k counter cultur build one st realli funni non guest celebr sketch loooooong ti\n",
            " play hillari nail top pennywis voic funni truli one best bite sketch snl ever \n",
            "way whole citi subscrib channel semi funni content hahahaha dare lol cant even \n",
            "alli great get great rememb time snl funni fuck shit kellywis kate babe rock ev\n",
            "atch time alreadi still love genious funni funni becam funni jew actor look lik\n",
            "ime alreadi still love genious funni funni becam funni jew actor look like rat \n",
            "still love genious funni funni becam funni jew actor look like rat fuckin jew c\n",
            " old man laugh background sooooooooo funni part made laugh arm got rip whoever \n",
            " snl well done geniu hilari perfecto funni yet creepi love funni human race los\n",
            "ilari perfecto funni yet creepi love funni human race lost hope fuck trend wow \n"
          ]
        }
      ],
      "source": [
        "df_positive_tweets = df_sentiment[df_sentiment['vader_sentiment_score'] == 'Positive']['cleaned_comment_text']\n",
        "\n",
        "tokenized_sent = tokenizeAllSent(df_positive_tweets)\n",
        "\n",
        "fdist = nltk.FreqDist(tokenized_sent)\n",
        "plt.figure(figsize=(12,7))\n",
        "fdist.plot(30)\n",
        "# fdist.most_common(30)\n",
        "\n",
        "text = nltk.Text(tokenized_sent)\n",
        "text.concordance('funni')"
      ]
    },
    {
      "cell_type": "markdown",
      "metadata": {
        "id": "TmEACHzcG5hn"
      },
      "source": [
        "# Negative sentiment tweet analysis\n",
        "1. Text length distribution\n",
        "2. Most frequently used words on negative sentiment"
      ]
    },
    {
      "cell_type": "code",
      "execution_count": null,
      "metadata": {
        "colab": {
          "base_uri": "https://localhost:8080/",
          "height": 531
        },
        "id": "_N_W11q0Cz1h",
        "outputId": "10f9a53d-9cf5-4cb3-b00f-81bd6d72ce5d"
      },
      "outputs": [
        {
          "name": "stdout",
          "output_type": "stream",
          "text": [
            "count    179.000000\n",
            "mean      13.184358\n",
            "std       16.308631\n",
            "min        1.000000\n",
            "25%        5.000000\n",
            "50%        9.000000\n",
            "75%       15.000000\n",
            "max      130.000000\n",
            "dtype: float64\n"
          ]
        },
        {
          "data": {
            "text/plain": [
              "(array([121.,  44.,   8.,   1.,   1.,   1.,   0.,   1.,   1.,   1.]),\n",
              " array([  1. ,  13.9,  26.8,  39.7,  52.6,  65.5,  78.4,  91.3, 104.2,\n",
              "        117.1, 130. ]),\n",
              " <a list of 10 Patch objects>)"
            ]
          },
          "execution_count": 21,
          "metadata": {},
          "output_type": "execute_result"
        },
        {
          "data": {
            "image/png": "[encoded data removed]",
            "text/plain": [
              "<Figure size 432x288 with 1 Axes>"
            ]
          },
          "metadata": {
            "needs_background": "light"
          },
          "output_type": "display_data"
        }
      ],
      "source": [
        "negative_tweet_len = pd.Series([len(tweet.split()) for tweet \n",
        "                                in df_sentiment[df_sentiment['vader_sentiment_score'] == 'Negative']['comment_text']])\n",
        "\n",
        "print(negative_tweet_len.describe())\n",
        "plt.title(\"Text length for negative sentiment tweets\")\n",
        "plt.ylabel(\"Frequency\")\n",
        "plt.xlabel(\"Number of words\")\n",
        "plt.hist(negative_tweet_len)"
      ]
    },
    {
      "cell_type": "code",
      "execution_count": null,
      "metadata": {
        "colab": {
          "base_uri": "https://localhost:8080/",
          "height": 946
        },
        "id": "Sh410zeLFTh-",
        "outputId": "aab4cced-ba64-4117-bf18-e5872e804391"
      },
      "outputs": [
        {
          "data": {
            "image/png": "[encoded data removed]",
            "text/plain": [
              "<Figure size 864x504 with 1 Axes>"
            ]
          },
          "metadata": {
            "needs_background": "light"
          },
          "output_type": "display_data"
        },
        {
          "name": "stdout",
          "output_type": "stream",
          "text": [
            "Displaying 25 of 28 matches:\n",
            "                                      snl trend view wtf anyon know orwellian a\n",
            " eye killer moment bad kate like peni snl sad watch im think fuck would much be\n",
            " bounc like babi mom funni noon watch snl anymor reli news magazin promot adver\n",
            "lywood either rape cover rapist decad snl make fun broad see woman snl ridicul \n",
            "st decad snl make fun broad see woman snl ridicul expo attack donat correct pol\n",
            " hell video get million view day know snl bad track record turn sketch movi wan\n",
            "hahahaha lost kellyann still frighten snl gay nbc cover fuck sexual predat like\n",
            " sort close hell gay liber propaganda snl suck bad fuck snl liber comment view \n",
            "ay liber propaganda snl suck bad fuck snl liber comment view call bullshit blac\n",
            " dumb play new round polit shit fling snl cnn comedi make funni bottom barrel t\n",
            "iew kellyann must glutton punish fuck snl sure suck nowaday yup bitch scari tha\n",
            " part ya think michigan wisconsin low snl reaaaal low lol pictur conway true ch\n",
            "care clown f ing stupid thing nowaday snl maga stop talk trump one care anymor \n",
            "s jesu trump bash campaign retard wow snl still desper grasp straw relev sad fu\n",
            "reak time row stick conway trump craw snl funni relev year crazi eye tone makeu\n",
            "onsin home state l hillari scari time snl back kate kill funni comment fake ast\n",
            "unni someth nasti hillari joke rememb snl laugh trump say aint go presid cnn wh\n",
            "cid squad donald trump dumb dumb joke snl one cant see someth wrong pictur weir\n",
            "tur weird get turn kate kellyann voic snl liter roast hillari clinton probabl l\n",
            "n probabl laugh trump whine talk shit snl instead work promis damn kelli ann ho\n",
            "h take kellyann conway serious rachel snl suck fuck horribl stupid stupid stupi\n",
            " sexi bitch shut sadli peopl get news snl scari stuff creativ beauti eye wow ra\n",
            " woman idk find kate funni still like snl though snl actual funni year ago bore\n",
            "find kate funni still like snl though snl actual funni year ago bore hate fest \n",
            "l kick kelli ann joke road singl joke snl weinstein black screen wtf holi moli \n"
          ]
        }
      ],
      "source": [
        "df_negative_tweets = df_sentiment[df_sentiment['vader_sentiment_score'] == 'Negative']['cleaned_comment_text']\n",
        "\n",
        "tokenized_sent = tokenizeAllSent(df_negative_tweets)\n",
        "\n",
        "fdist = nltk.FreqDist(tokenized_sent)\n",
        "plt.figure(figsize=(12,7))\n",
        "fdist.plot(30)\n",
        "# fdist.most_common(30)\n",
        "\n",
        "text = nltk.Text(tokenized_sent)\n",
        "text.concordance('snl')"
      ]
    },
    {
      "cell_type": "markdown",
      "metadata": {
        "id": "1e4-22W0vf5C"
      },
      "source": [
        "# Model building with SVM\n",
        "1. Data splitting to training and testing model\n",
        "2. Vectorizing the data\n",
        "3. Create linear SVM\n",
        "4. Test the model"
      ]
    },
    {
      "cell_type": "code",
      "execution_count": null,
      "metadata": {
        "colab": {
          "base_uri": "https://localhost:8080/"
        },
        "id": "CApcqK6nwOeD",
        "outputId": "7023d38e-d932-425e-9d91-15dfdcbed170"
      },
      "outputs": [
        {
          "name": "stdout",
          "output_type": "stream",
          "text": [
            "(631,) (158,) (631,) (158,)\n",
            "Training dataset sentiment distribution\n",
            " Positive    328\n",
            "Neutral     160\n",
            "Negative    143\n",
            "Name: vader_sentiment_score, dtype: int64\n",
            "Training dataset head\n",
            "                         comment_text vader_sentiment_score\n",
            "497              weird find kind hot              Negative\n",
            "246          kellywis time halloween              Negative\n",
            "114  go snl classic perfect pennywis              Positive\n",
            "486                           rachel               Neutral\n",
            "543              guy seen movi accur               Neutral\n",
            "\n",
            "==================================\n",
            "Test dataset sentiment distribution\n",
            " Positive    80\n",
            "Neutral     42\n",
            "Negative    36\n",
            "Name: vader_sentiment_score, dtype: int64\n",
            "Test dataset head\n",
            "                                           comment_text vader_sentiment_score\n",
            "473                              kate mckinnon goddess               Neutral\n",
            "531                                          well made               Neutral\n",
            "103  jesu fuck much terrifi pennywis voic flawless ...              Negative\n",
            "663  hilari want note storm drain sewer actual lead...              Positive\n",
            "461                                              begon               Neutral\n"
          ]
        }
      ],
      "source": [
        "# data splitting\n",
        "X_train, X_test, y_train, y_test = train_test_split(df_sentiment['cleaned_comment_text'], \n",
        "                                                    df_sentiment['vader_sentiment_score'], \n",
        "                                                    test_size=0.2,\n",
        "                                                    random_state=25)\n",
        "print(X_train.shape, X_test.shape, y_train.shape, y_test.shape)\n",
        "\n",
        "train_dataset = pd.DataFrame({\n",
        "    'comment_text' : X_train,\n",
        "    'vader_sentiment_score' : y_train\n",
        "})\n",
        "\n",
        "print(\"Training dataset sentiment distribution\\n\",train_dataset['vader_sentiment_score'].value_counts(), end='\\n')\n",
        "print(\"Training dataset head\\n\", train_dataset.head(), end='\\n\\n==================================\\n')\n",
        "\n",
        "test_dataset = pd.DataFrame({\n",
        "    'comment_text' : X_test,\n",
        "    'vader_sentiment_score' : y_test\n",
        "})\n",
        "\n",
        "print(\"Test dataset sentiment distribution\\n\",test_dataset['vader_sentiment_score'].value_counts())\n",
        "print(\"Test dataset head\\n\", test_dataset.head())"
      ]
    },
    {
      "cell_type": "code",
      "execution_count": null,
      "metadata": {
        "colab": {
          "base_uri": "https://localhost:8080/"
        },
        "id": "34BSVjWLvmyq",
        "outputId": "143a34c6-4ded-4d16-d182-9468e848c7a1"
      },
      "outputs": [
        {
          "data": {
            "text/plain": [
              "GridSearchCV(cv=10,\n",
              "             estimator=Pipeline(steps=[('vect', CountVectorizer()),\n",
              "                                       ('tfidf', TfidfTransformer()),\n",
              "                                       ('clf', LinearSVC())]),\n",
              "             param_grid={'clf__tol': [1, 0.1, 0.01, 0.001],\n",
              "                         'tfidf__use_idf': (True, False),\n",
              "                         'vect__ngram_range': [(1, 2), (1, 3), (1, 4)]})"
            ]
          },
          "execution_count": 24,
          "metadata": {},
          "output_type": "execute_result"
        }
      ],
      "source": [
        "text_clf = Pipeline([('vect', CountVectorizer()),\n",
        "                     ('tfidf', TfidfTransformer()),\n",
        "                     ('clf', LinearSVC())])\n",
        "\n",
        "tuned_parameters = {\n",
        "    'vect__ngram_range': [(1, 2), (1, 3), (1, 4)],\n",
        "    'tfidf__use_idf': (True, False),\n",
        "    # 'tfidf__norm': ('l1', 'l2'),\n",
        "    'clf__tol': [1, 1e-1, 1e-2, 1e-3]\n",
        "}\n",
        "\n",
        "clf = GridSearchCV(text_clf, tuned_parameters, cv=10)\n",
        "clf.fit(X_train, y_train)"
      ]
    },
    {
      "cell_type": "markdown",
      "metadata": {
        "id": "aXAtRouhvjuf"
      },
      "source": [
        "# Model evaluation\n",
        "1. Confusion matrix\n",
        "2. Accuracy, precision, recall, f1 score"
      ]
    },
    {
      "cell_type": "code",
      "execution_count": null,
      "metadata": {
        "colab": {
          "base_uri": "https://localhost:8080/"
        },
        "id": "3gXTvho8xV7C",
        "outputId": "d1413e32-6c2a-41c1-a152-d89b90e18bf8"
      },
      "outputs": [
        {
          "name": "stdout",
          "output_type": "stream",
          "text": [
            "              precision    recall  f1-score   support\n",
            "\n",
            "    Negative     0.6250    0.4167    0.5000        36\n",
            "     Neutral     0.5510    0.6429    0.5934        42\n",
            "    Positive     0.7294    0.7750    0.7515        80\n",
            "\n",
            "    accuracy                         0.6582       158\n",
            "   macro avg     0.6351    0.6115    0.6150       158\n",
            "weighted avg     0.6582    0.6582    0.6522       158\n",
            "\n",
            "0.6582278481012658\n",
            "[[15  9 12]\n",
            " [ 4 27 11]\n",
            " [ 5 13 62]]\n",
            "Best Score:  0.6798115079365079\n",
            "Best Params:  {'clf__tol': 0.1, 'tfidf__use_idf': False, 'vect__ngram_range': (1, 2)}\n"
          ]
        }
      ],
      "source": [
        "print(classification_report(y_test, clf.predict(X_test), digits=4))\n",
        "print(accuracy_score(y_test, clf.predict(X_test)))\n",
        "print(confusion_matrix(y_test, clf.predict(X_test)))\n",
        "\n",
        "print(\"Best Score: \", clf.best_score_)\n",
        "print(\"Best Params: \", clf.best_params_)"
      ]
    }
  ],
  "metadata": {
    "colab": {
      "collapsed_sections": [],
      "name": "youtube-sentiment-analysis.ipynb",
      "provenance": []
    },
    "kernelspec": {
      "display_name": "Python 3",
      "name": "python3"
    },
    "language_info": {
      "name": "python"
    }
  },
  "nbformat": 4,
  "nbformat_minor": 0
}
